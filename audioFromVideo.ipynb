{
 "cells": [
  {
   "cell_type": "code",
   "execution_count": 1,
   "id": "ef1a9229",
   "metadata": {
    "scrolled": true
   },
   "outputs": [
    {
     "name": "stdout",
     "output_type": "stream",
     "text": [
      "Requirement already satisfied: yt-dlp in /Users/dpr12/anaconda3/lib/python3.11/site-packages (2024.5.27)\n",
      "Requirement already satisfied: brotli in /Users/dpr12/anaconda3/lib/python3.11/site-packages (from yt-dlp) (1.1.0)\n",
      "Requirement already satisfied: certifi in /Users/dpr12/anaconda3/lib/python3.11/site-packages (from yt-dlp) (2024.6.2)\n",
      "Requirement already satisfied: mutagen in /Users/dpr12/anaconda3/lib/python3.11/site-packages (from yt-dlp) (1.47.0)\n",
      "Requirement already satisfied: pycryptodomex in /Users/dpr12/anaconda3/lib/python3.11/site-packages (from yt-dlp) (3.20.0)\n",
      "Requirement already satisfied: requests<3,>=2.31.0 in /Users/dpr12/anaconda3/lib/python3.11/site-packages (from yt-dlp) (2.31.0)\n",
      "Requirement already satisfied: urllib3<3,>=1.26.17 in /Users/dpr12/anaconda3/lib/python3.11/site-packages (from yt-dlp) (2.2.2)\n",
      "Requirement already satisfied: websockets>=12.0 in /Users/dpr12/anaconda3/lib/python3.11/site-packages (from yt-dlp) (12.0)\n",
      "Requirement already satisfied: charset-normalizer<4,>=2 in /Users/dpr12/anaconda3/lib/python3.11/site-packages (from requests<3,>=2.31.0->yt-dlp) (2.0.4)\n",
      "Requirement already satisfied: idna<4,>=2.5 in /Users/dpr12/anaconda3/lib/python3.11/site-packages (from requests<3,>=2.31.0->yt-dlp) (3.4)\n",
      "Collecting package metadata (current_repodata.json): done\n",
      "Solving environment: done\n",
      "\n",
      "\n",
      "==> WARNING: A newer version of conda exists. <==\n",
      "  current version: 23.7.4\n",
      "  latest version: 24.5.0\n",
      "\n",
      "Please update conda by running\n",
      "\n",
      "    $ conda update -n base -c defaults conda\n",
      "\n",
      "Or to minimize the number of packages updated during conda update use\n",
      "\n",
      "     conda install conda=24.5.0\n",
      "\n",
      "\n",
      "\n",
      "# All requested packages already installed.\n",
      "\n"
     ]
    }
   ],
   "source": [
    "# install packages\n",
    "!pip install yt-dlp\n",
    "!conda install -c conda-forge ffmpeg -y"
   ]
  },
  {
   "cell_type": "code",
   "execution_count": 2,
   "id": "5f9eed5e",
   "metadata": {},
   "outputs": [],
   "source": [
    "# target video\n",
    "video_url = 'https://www.youtube.com/watch?v=8SzpxyvdxWo'"
   ]
  },
  {
   "cell_type": "code",
   "execution_count": 4,
   "id": "74c699c6",
   "metadata": {},
   "outputs": [
    {
     "name": "stdout",
     "output_type": "stream",
     "text": [
      "[youtube] Extracting URL: https://www.youtube.com/watch?v=8SzpxyvdxWo\n",
      "[youtube] 8SzpxyvdxWo: Downloading webpage\n",
      "[youtube] 8SzpxyvdxWo: Downloading ios player API JSON\n",
      "[youtube] 8SzpxyvdxWo: Downloading m3u8 information\n",
      "[info] 8SzpxyvdxWo: Downloading 1 format(s): 251\n",
      "[download] Destination: ./audios/Barn Owl Nestling's Adorable Flight Training Session!.webm\n",
      "[download] 100% of    1.45MiB in 00:00:00 at 1.76MiB/s   \n",
      "[ExtractAudio] Destination: ./audios/Barn Owl Nestling's Adorable Flight Training Session!.mp3\n",
      "Deleting original file ./audios/Barn Owl Nestling's Adorable Flight Training Session!.webm (pass -k to keep)\n",
      "Download and Audio ready.\n"
     ]
    }
   ],
   "source": [
    "import yt_dlp\n",
    "import ffmpeg\n",
    "\n",
    "ydl_opts = {\n",
    "    'format': 'bestaudio/best',\n",
    "    'postprocessors': [{\n",
    "        'key': 'FFmpegExtractAudio',\n",
    "        'preferredcodec': 'mp3',\n",
    "        'preferredquality': '192',\n",
    "    }],\n",
    "    'outtmpl': './audios/%(title)s.%(ext)s',\n",
    "}\n",
    "\n",
    "with yt_dlp.YoutubeDL(ydl_opts) as ydl:\n",
    "    ydl.download([video_url])\n",
    "    \n",
    "print('Download and Audio ready.')"
   ]
  },
  {
   "cell_type": "code",
   "execution_count": 5,
   "id": "1159c8f2",
   "metadata": {},
   "outputs": [
    {
     "name": "stdout",
     "output_type": "stream",
     "text": [
      "[\"Barn Owl Nestling's Adorable Flight Training Session!.mp3\"]\n"
     ]
    }
   ],
   "source": [
    "# Sanity check\n",
    "import os\n",
    "print(os.listdir('./audios'))"
   ]
  }
 ],
 "metadata": {
  "kernelspec": {
   "display_name": "Python 3 (ipykernel)",
   "language": "python",
   "name": "python3"
  },
  "language_info": {
   "codemirror_mode": {
    "name": "ipython",
    "version": 3
   },
   "file_extension": ".py",
   "mimetype": "text/x-python",
   "name": "python",
   "nbconvert_exporter": "python",
   "pygments_lexer": "ipython3",
   "version": "3.11.5"
  }
 },
 "nbformat": 4,
 "nbformat_minor": 5
}
