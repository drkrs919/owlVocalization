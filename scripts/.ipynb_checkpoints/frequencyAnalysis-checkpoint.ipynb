{
 "cells": [
  {
   "cell_type": "code",
   "execution_count": 1,
   "id": "ba9e563d",
   "metadata": {},
   "outputs": [
    {
     "name": "stdout",
     "output_type": "stream",
     "text": [
      "Requirement already satisfied: librosa in /Users/dpr12/anaconda3/lib/python3.11/site-packages (0.10.2.post1)\n",
      "Requirement already satisfied: audioread>=2.1.9 in /Users/dpr12/anaconda3/lib/python3.11/site-packages (from librosa) (3.0.1)\n",
      "Requirement already satisfied: numpy!=1.22.0,!=1.22.1,!=1.22.2,>=1.20.3 in /Users/dpr12/anaconda3/lib/python3.11/site-packages (from librosa) (1.24.3)\n",
      "Requirement already satisfied: scipy>=1.2.0 in /Users/dpr12/anaconda3/lib/python3.11/site-packages (from librosa) (1.11.1)\n",
      "Requirement already satisfied: scikit-learn>=0.20.0 in /Users/dpr12/anaconda3/lib/python3.11/site-packages (from librosa) (1.3.0)\n",
      "Requirement already satisfied: joblib>=0.14 in /Users/dpr12/anaconda3/lib/python3.11/site-packages (from librosa) (1.2.0)\n",
      "Requirement already satisfied: decorator>=4.3.0 in /Users/dpr12/anaconda3/lib/python3.11/site-packages (from librosa) (5.1.1)\n",
      "Requirement already satisfied: numba>=0.51.0 in /Users/dpr12/anaconda3/lib/python3.11/site-packages (from librosa) (0.57.1)\n",
      "Requirement already satisfied: soundfile>=0.12.1 in /Users/dpr12/anaconda3/lib/python3.11/site-packages (from librosa) (0.12.1)\n",
      "Requirement already satisfied: pooch>=1.1 in /Users/dpr12/anaconda3/lib/python3.11/site-packages (from librosa) (1.8.2)\n",
      "Requirement already satisfied: soxr>=0.3.2 in /Users/dpr12/anaconda3/lib/python3.11/site-packages (from librosa) (0.3.7)\n",
      "Requirement already satisfied: typing-extensions>=4.1.1 in /Users/dpr12/anaconda3/lib/python3.11/site-packages (from librosa) (4.7.1)\n",
      "Requirement already satisfied: lazy-loader>=0.1 in /Users/dpr12/anaconda3/lib/python3.11/site-packages (from librosa) (0.2)\n",
      "Requirement already satisfied: msgpack>=1.0 in /Users/dpr12/anaconda3/lib/python3.11/site-packages (from librosa) (1.0.3)\n",
      "Requirement already satisfied: llvmlite<0.41,>=0.40.0dev0 in /Users/dpr12/anaconda3/lib/python3.11/site-packages (from numba>=0.51.0->librosa) (0.40.0)\n",
      "Requirement already satisfied: platformdirs>=2.5.0 in /Users/dpr12/anaconda3/lib/python3.11/site-packages (from pooch>=1.1->librosa) (3.10.0)\n",
      "Requirement already satisfied: packaging>=20.0 in /Users/dpr12/anaconda3/lib/python3.11/site-packages (from pooch>=1.1->librosa) (23.1)\n",
      "Requirement already satisfied: requests>=2.19.0 in /Users/dpr12/anaconda3/lib/python3.11/site-packages (from pooch>=1.1->librosa) (2.31.0)\n",
      "Requirement already satisfied: threadpoolctl>=2.0.0 in /Users/dpr12/anaconda3/lib/python3.11/site-packages (from scikit-learn>=0.20.0->librosa) (2.2.0)\n",
      "Requirement already satisfied: cffi>=1.0 in /Users/dpr12/anaconda3/lib/python3.11/site-packages (from soundfile>=0.12.1->librosa) (1.15.1)\n",
      "Requirement already satisfied: pycparser in /Users/dpr12/anaconda3/lib/python3.11/site-packages (from cffi>=1.0->soundfile>=0.12.1->librosa) (2.21)\n",
      "Requirement already satisfied: charset-normalizer<4,>=2 in /Users/dpr12/anaconda3/lib/python3.11/site-packages (from requests>=2.19.0->pooch>=1.1->librosa) (2.0.4)\n",
      "Requirement already satisfied: idna<4,>=2.5 in /Users/dpr12/anaconda3/lib/python3.11/site-packages (from requests>=2.19.0->pooch>=1.1->librosa) (3.4)\n",
      "Requirement already satisfied: urllib3<3,>=1.21.1 in /Users/dpr12/anaconda3/lib/python3.11/site-packages (from requests>=2.19.0->pooch>=1.1->librosa) (2.2.2)\n",
      "Requirement already satisfied: certifi>=2017.4.17 in /Users/dpr12/anaconda3/lib/python3.11/site-packages (from requests>=2.19.0->pooch>=1.1->librosa) (2024.6.2)\n",
      "\u001b[31mERROR: Could not find a version that satisfies the requirement pywt (from versions: none)\u001b[0m\u001b[31m\n",
      "\u001b[0m\u001b[31mERROR: No matching distribution found for pywt\u001b[0m\u001b[31m\n",
      "\u001b[0mRequirement already satisfied: matplotlib in /Users/dpr12/anaconda3/lib/python3.11/site-packages (3.7.2)\n",
      "Requirement already satisfied: contourpy>=1.0.1 in /Users/dpr12/anaconda3/lib/python3.11/site-packages (from matplotlib) (1.0.5)\n",
      "Requirement already satisfied: cycler>=0.10 in /Users/dpr12/anaconda3/lib/python3.11/site-packages (from matplotlib) (0.11.0)\n",
      "Requirement already satisfied: fonttools>=4.22.0 in /Users/dpr12/anaconda3/lib/python3.11/site-packages (from matplotlib) (4.25.0)\n",
      "Requirement already satisfied: kiwisolver>=1.0.1 in /Users/dpr12/anaconda3/lib/python3.11/site-packages (from matplotlib) (1.4.4)\n",
      "Requirement already satisfied: numpy>=1.20 in /Users/dpr12/anaconda3/lib/python3.11/site-packages (from matplotlib) (1.24.3)\n",
      "Requirement already satisfied: packaging>=20.0 in /Users/dpr12/anaconda3/lib/python3.11/site-packages (from matplotlib) (23.1)\n",
      "Requirement already satisfied: pillow>=6.2.0 in /Users/dpr12/anaconda3/lib/python3.11/site-packages (from matplotlib) (10.0.1)\n",
      "Requirement already satisfied: pyparsing<3.1,>=2.3.1 in /Users/dpr12/anaconda3/lib/python3.11/site-packages (from matplotlib) (3.0.9)\n",
      "Requirement already satisfied: python-dateutil>=2.7 in /Users/dpr12/anaconda3/lib/python3.11/site-packages (from matplotlib) (2.8.2)\n",
      "Requirement already satisfied: six>=1.5 in /Users/dpr12/anaconda3/lib/python3.11/site-packages (from python-dateutil>=2.7->matplotlib) (1.16.0)\n"
     ]
    }
   ],
   "source": [
    "# install packages\n",
    "!pip install librosa\n",
    "!pip install pywt\n",
    "!pip install matplotlib"
   ]
  },
  {
   "cell_type": "code",
   "execution_count": 2,
   "id": "bb6ea117",
   "metadata": {},
   "outputs": [],
   "source": [
    "import librosa\n",
    "import librosa.display\n",
    "import matplotlib.pyplot as plt\n",
    "import numpy as np\n",
    "import scipy.signal\n",
    "import pywt"
   ]
  },
  {
   "cell_type": "code",
   "execution_count": 3,
   "id": "a1e51a8f",
   "metadata": {},
   "outputs": [],
   "source": [
    "# target audio file\n",
    "flight_train_path = '../audios/Barn Owl Nestling\\'s Adorable Flight Training Session!.mp3'\n",
    "y_ft, sr_ft = librosa.load(flight_train_path)"
   ]
  },
  {
   "cell_type": "code",
   "execution_count": 4,
   "id": "71993d7f",
   "metadata": {
    "scrolled": true
   },
   "outputs": [],
   "source": [
    "def get_high_pass_filter(cutoff_freq, sr):\n",
    "    nyquist = 0.5 * sr\n",
    "    normal_cutoff = cutoff_freq / nyquist\n",
    "    return scipy.signal.butter(1, normal_cutoff, btype='high', analog=False)\n",
    "\n",
    "def produce_spectrogram(y, sr, cutoff_freq, method='stft', amplitude_t=-40, dur=20):\n",
    "    if method == 'stft':\n",
    "        # Design a high-pass filter\n",
    "        b, a = get_high_pass_filter(cutoff_freq, sr)\n",
    "\n",
    "        y_filtered = scipy.signal.filtfilt(b, a, y)\n",
    "        if dur != -1:\n",
    "            y_filtered = y_filtered[:dur * sr]\n",
    "        D_filtered = librosa.stft(y_filtered)\n",
    "        S_db_filtered = librosa.amplitude_to_db(np.abs(D_filtered), ref=np.max)\n",
    "\n",
    "        plt.figure(figsize=(12, 8))\n",
    "        librosa.display.specshow(S_db_filtered, sr=sr, x_axis='time', y_axis='log')\n",
    "\n",
    "        plt.ylim(512, sr // 2)\n",
    "\n",
    "        plt.colorbar(format='%+2.0f dB')\n",
    "        plt.title('Spectrogram (Frequency vs. Time) with High-Pass Filter at 1024Hz')\n",
    "        plt.xlabel('Time (s)')\n",
    "        plt.ylabel('Frequency (Hz)')\n",
    "        plt.clim(vmin=amplitude_t)  # Set the minimum amplitude to display\n",
    "        plt.show()\n",
    "\n",
    "        # max amplitude\n",
    "        frequencies = librosa.fft_frequencies(sr=sr, n_fft=D_filtered.shape[0])\n",
    "        times = librosa.frames_to_time(np.arange(S_db_filtered.shape[1]), sr=sr, hop_length=512, n_fft=2048)\n",
    "        peak_frequencies = frequencies[np.argmax(S_db_filtered, axis=0)]\n",
    "\n",
    "        plt.figure(figsize=(12, 8))\n",
    "        plt.plot(times, peak_frequencies, label='Peak Frequency')\n",
    "        plt.ylim(512, sr // 2)\n",
    "        plt.xlabel('Time (s)')\n",
    "        plt.ylabel('Frequency (Hz)')\n",
    "        plt.title('Peak Frequency Over Time for First 20 Seconds')\n",
    "        plt.legend()\n",
    "        plt.show()\n",
    "    if method == 'wavelet':\n",
    "        if dur != -1:\n",
    "            y = y[:int(dur * sr)]\n",
    "        scales = np.arange(1, 128)\n",
    "        \n",
    "        coef, freq = pywt.cwt(y, scales, 'cmor', sampling_period=1/sr)\n",
    "        \n",
    "        plt.figure(figsize=(12, 8))\n",
    "        plt.imshow(np.abs(coefficients), extent=[0, duration, scales[-1], scales[0]], cmap='viridis', aspect='auto',\n",
    "                   vmax=np.abs(coefficients).max(), vmin=-np.abs(coefficients).max())\n",
    "        plt.colorbar(label='Magnitude')\n",
    "        plt.title('Wavelet Transform (CWT) of the Audio Signal')\n",
    "        plt.xlabel('Time (s)')\n",
    "        plt.ylabel('Scale')\n",
    "        plt.yscale('log')\n",
    "        plt.ylim(scales[-1], scales[0])\n",
    "        plt.show()"
   ]
  },
  {
   "cell_type": "code",
   "execution_count": 5,
   "id": "8d103ee5",
   "metadata": {},
   "outputs": [],
   "source": [
    "def filter_response_plots(y, sr, freq):\n",
    "    b, a = get_high_pass_filter(freq, sr_ft)\n",
    "    w, h = scipy.signal.freqz(b, a)\n",
    "\n",
    "    plt.figure(figsize=(12, 8))\n",
    "\n",
    "    plt.subplot(2, 1, 1)\n",
    "    plt.plot(0.5 * sr * w / np.pi, np.abs(h), 'b')\n",
    "    plt.title('High-Pass Filter Frequency Response')\n",
    "    plt.xlabel('Frequency [Hz]')\n",
    "    plt.ylabel('Gain')\n",
    "    plt.grid()\n",
    "\n",
    "    plt.subplot(2, 1, 2)\n",
    "    plt.plot(0.5 * sr * w / np.pi, np.angle(h), 'b')\n",
    "    plt.xlabel('Frequency [Hz]')\n",
    "    plt.ylabel('Phase [radians]')\n",
    "    plt.grid()\n",
    "\n",
    "    plt.tight_layout()\n",
    "    plt.show()"
   ]
  },
  {
   "cell_type": "code",
   "execution_count": 6,
   "id": "921b756d",
   "metadata": {},
   "outputs": [
    {
     "ename": "NameError",
     "evalue": "name 'y' is not defined",
     "output_type": "error",
     "traceback": [
      "\u001b[0;31m---------------------------------------------------------------------------\u001b[0m",
      "\u001b[0;31mNameError\u001b[0m                                 Traceback (most recent call last)",
      "Cell \u001b[0;32mIn[6], line 1\u001b[0m\n\u001b[0;32m----> 1\u001b[0m produce_spectrogram(y, sr, \u001b[38;5;241m512\u001b[39m)\n\u001b[1;32m      2\u001b[0m filter_response_plots(y_ft, sr_ft, \u001b[38;5;241m512\u001b[39m)\n",
      "\u001b[0;31mNameError\u001b[0m: name 'y' is not defined"
     ]
    }
   ],
   "source": [
    "produce_spectrogram(y_ft, sr_ft, 512)\n",
    "filter_response_plots(y_ft, sr_ft, 512)"
   ]
  },
  {
   "cell_type": "code",
   "execution_count": null,
   "id": "ce55a842",
   "metadata": {},
   "outputs": [],
   "source": [
    "produce_spectrogram(y_ft, sr_ft, 1024)\n",
    "filter_response_plots(y_ft, sr_ft, 1024)"
   ]
  }
 ],
 "metadata": {
  "kernelspec": {
   "display_name": "Python 3 (ipykernel)",
   "language": "python",
   "name": "python3"
  },
  "language_info": {
   "codemirror_mode": {
    "name": "ipython",
    "version": 3
   },
   "file_extension": ".py",
   "mimetype": "text/x-python",
   "name": "python",
   "nbconvert_exporter": "python",
   "pygments_lexer": "ipython3",
   "version": "3.11.5"
  }
 },
 "nbformat": 4,
 "nbformat_minor": 5
}
