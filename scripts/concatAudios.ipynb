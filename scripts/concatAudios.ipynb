{
 "cells": [
  {
   "cell_type": "code",
   "execution_count": 1,
   "id": "eb9852e9",
   "metadata": {},
   "outputs": [
    {
     "name": "stdout",
     "output_type": "stream",
     "text": [
      "Requirement already satisfied: pydub in /Users/dpr12/anaconda3/lib/python3.11/site-packages (0.25.1)\n",
      "Requirement already satisfied: soundfile in /Users/dpr12/anaconda3/lib/python3.11/site-packages (0.12.1)\n",
      "Requirement already satisfied: cffi>=1.0 in /Users/dpr12/anaconda3/lib/python3.11/site-packages (from soundfile) (1.15.1)\n",
      "Requirement already satisfied: pycparser in /Users/dpr12/anaconda3/lib/python3.11/site-packages (from cffi>=1.0->soundfile) (2.21)\n"
     ]
    }
   ],
   "source": [
    "!pip install pydub\n",
    "!pip install soundfile\n",
    "import os\n",
    "from pydub import AudioSegment\n",
    "from scipy.io import wavfile\n",
    "import numpy as np"
   ]
  },
  {
   "cell_type": "code",
   "execution_count": 2,
   "id": "16d8bea1",
   "metadata": {},
   "outputs": [],
   "source": [
    "folder_path = '../audios/lab_audios/first_batch/'"
   ]
  },
  {
   "cell_type": "code",
   "execution_count": 3,
   "id": "f4fab6a2",
   "metadata": {},
   "outputs": [
    {
     "name": "stdout",
     "output_type": "stream",
     "text": [
      "Processing file 2\n",
      "Processing file 3\n",
      "Processing file 4\n",
      "Concatenated audio file saved as ../audios/lab_audios/first_batch/combined_audio.wav\n"
     ]
    }
   ],
   "source": [
    "import soundfile as sf\n",
    "import os\n",
    "\n",
    "# Open the first file to start the concatenation\n",
    "file_name = f'recording_20240927_204919-01.wav'\n",
    "file_path = os.path.join(folder_path, file_name)\n",
    "combined_data, sample_rate = sf.read(file_path)\n",
    "\n",
    "# Loop through the remaining files\n",
    "for i in range(2, 5):\n",
    "    print(f'Processing file {i}')\n",
    "    file_name = f'recording_20240927_204919-{i:02}.wav'\n",
    "    file_path = os.path.join(folder_path, file_name)\n",
    "    \n",
    "    data, _ = sf.read(file_path)\n",
    "    \n",
    "    combined_data = np.concatenate((combined_data, data))\n",
    "\n",
    "output_file = os.path.join(folder_path, 'combined_audio.wav')\n",
    "sf.write(output_file, combined_data, sample_rate)\n",
    "\n",
    "print(f\"Concatenated audio file saved as {output_file}\")\n"
   ]
  }
 ],
 "metadata": {
  "kernelspec": {
   "display_name": "Python 3 (ipykernel)",
   "language": "python",
   "name": "python3"
  },
  "language_info": {
   "codemirror_mode": {
    "name": "ipython",
    "version": 3
   },
   "file_extension": ".py",
   "mimetype": "text/x-python",
   "name": "python",
   "nbconvert_exporter": "python",
   "pygments_lexer": "ipython3",
   "version": "3.11.5"
  }
 },
 "nbformat": 4,
 "nbformat_minor": 5
}
